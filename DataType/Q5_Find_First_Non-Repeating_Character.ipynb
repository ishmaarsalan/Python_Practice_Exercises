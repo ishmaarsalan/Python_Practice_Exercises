{
 "cells": [
  {
   "cell_type": "code",
   "execution_count": null,
   "id": "aa626eb1-d112-4ae0-8f73-760b7de7dde0",
   "metadata": {},
   "outputs": [],
   "source": [
    "5. Find First Non-Repeating Character"
   ]
  },
  {
   "cell_type": "code",
   "execution_count": null,
   "id": "8851534c-6fd0-46e7-87b4-ba536adcf9a4",
   "metadata": {},
   "outputs": [],
   "source": [
    "Write a function first_non_repeating(s) that returns the first non-repeating character in the given string s.\n",
    "\n",
    "Input: \"swiss\"\n"
   ]
  },
  {
   "cell_type": "code",
   "execution_count": null,
   "id": "76024df8-3933-4e7c-bfcb-06fff89e804a",
   "metadata": {},
   "outputs": [],
   "source": [
    "Output: \"w\""
   ]
  },
  {
   "cell_type": "code",
   "execution_count": 1,
   "id": "590aae6a-ec6b-4572-843c-b2d46a38f272",
   "metadata": {},
   "outputs": [
    {
     "name": "stdout",
     "output_type": "stream",
     "text": [
      "The first non repeating character is : w\n"
     ]
    }
   ],
   "source": [
    "def first_non_repeating(s):\n",
    "  for i in range(len(s)):\n",
    "    character = s[i]\n",
    "    if s.count(character) == 1:\n",
    "      return character\n",
    "  return None\n",
    "final_first_non_repeating = first_non_repeating(\"swiss\")\n",
    "print(\"The first non repeating character is : \" + str(final_first_non_repeating))"
   ]
  },
  {
   "cell_type": "code",
   "execution_count": null,
   "id": "5c011572-5e72-4183-89a6-52621ce6d330",
   "metadata": {},
   "outputs": [],
   "source": []
  }
 ],
 "metadata": {
  "kernelspec": {
   "display_name": "Python 3 (ipykernel)",
   "language": "python",
   "name": "python3"
  },
  "language_info": {
   "codemirror_mode": {
    "name": "ipython",
    "version": 3
   },
   "file_extension": ".py",
   "mimetype": "text/x-python",
   "name": "python",
   "nbconvert_exporter": "python",
   "pygments_lexer": "ipython3",
   "version": "3.11.7"
  }
 },
 "nbformat": 4,
 "nbformat_minor": 5
}
