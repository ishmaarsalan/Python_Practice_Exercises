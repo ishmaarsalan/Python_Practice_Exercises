{
 "cells": [
  {
   "cell_type": "markdown",
   "id": "612a7aee-6592-47f4-8eb7-b0e3fb421dc0",
   "metadata": {},
   "source": [
    " ## 2. Calculate Sum of Digits Recursively\n"
   ]
  },
  {
   "cell_type": "markdown",
   "id": "68fcc2b9-7bae-4291-8cce-0a33058be114",
   "metadata": {},
   "source": [
    " #### Problem: Write a recursive function sum_of_digits_recursive(n) that returns the sum of the digits of the given number n.\n",
    "\n",
    "Input: 123\n"
   ]
  },
  {
   "cell_type": "code",
   "execution_count": null,
   "id": "e2b09284-15f0-4246-878e-238b607a9b5b",
   "metadata": {},
   "outputs": [],
   "source": [
    "\n",
    "Output: 6"
   ]
  }
 ],
 "metadata": {
  "kernelspec": {
   "display_name": "Python 3 (ipykernel)",
   "language": "python",
   "name": "python3"
  },
  "language_info": {
   "codemirror_mode": {
    "name": "ipython",
    "version": 3
   },
   "file_extension": ".py",
   "mimetype": "text/x-python",
   "name": "python",
   "nbconvert_exporter": "python",
   "pygments_lexer": "ipython3",
   "version": "3.11.7"
  }
 },
 "nbformat": 4,
 "nbformat_minor": 5
}
