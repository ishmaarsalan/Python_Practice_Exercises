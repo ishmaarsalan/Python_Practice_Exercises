{
 "cells": [
  {
   "cell_type": "markdown",
   "id": "eeed0984-7577-4a0b-8c0c-22106afe3823",
   "metadata": {},
   "source": [
    " ## 01. Calculating Area of the Rectangle"
   ]
  },
  {
   "cell_type": "markdown",
   "id": "c2c337b5-2e62-4c06-b758-34f2f4462967",
   "metadata": {},
   "source": [
    " #### Problem: The function calcRectangleArea takes two inputs a and b which represent the two sides of a rectangle.\r",
    " #### \n",
    "Return the area of the rectangle\n",
    " \n",
    " #### Example:\n",
    "Calling calcRectangleArea(4, 2) returns 8 (4 * 2)...."
   ]
  },
  {
   "cell_type": "code",
   "execution_count": null,
   "id": "f81f59aa-3bb7-42d4-86a5-09068b509ace",
   "metadata": {},
   "outputs": [],
   "source": [
    "Output:8"
   ]
  },
  {
   "cell_type": "code",
   "execution_count": 7,
   "id": "2e465eff-a4ca-494d-afd5-583dc3679a84",
   "metadata": {},
   "outputs": [
    {
     "name": "stdout",
     "output_type": "stream",
     "text": [
      "8\n"
     ]
    }
   ],
   "source": [
    "def calcRectangleArea(a, b):    \n",
    "\n",
    "    return (a * b)\n",
    "x = calcRectangleArea(4,2)\n",
    "print(x)"
   ]
  },
  {
   "cell_type": "code",
   "execution_count": null,
   "id": "67fab4dc-de87-456e-9271-c834062a668d",
   "metadata": {},
   "outputs": [],
   "source": []
  }
 ],
 "metadata": {
  "kernelspec": {
   "display_name": "Python 3 (ipykernel)",
   "language": "python",
   "name": "python3"
  },
  "language_info": {
   "codemirror_mode": {
    "name": "ipython",
    "version": 3
   },
   "file_extension": ".py",
   "mimetype": "text/x-python",
   "name": "python",
   "nbconvert_exporter": "python",
   "pygments_lexer": "ipython3",
   "version": "3.11.7"
  }
 },
 "nbformat": 4,
 "nbformat_minor": 5
}
