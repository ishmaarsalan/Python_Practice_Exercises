{
 "cells": [
  {
   "cell_type": "markdown",
   "id": "eeed0984-7577-4a0b-8c0c-22106afe3823",
   "metadata": {},
   "source": [
    " ## 01. Calculating Area of the Rectangle"
   ]
  },
  {
   "cell_type": "markdown",
   "id": "c2c337b5-2e62-4c06-b758-34f2f4462967",
   "metadata": {},
   "source": [
    " #### The function divide takes 3 inputs a, b and floorDivision.\n",
    " #### Divide `a` by `b` and use a floor division (i.e. round down the result) if `floorDivision` is `True`.\n",
    "\n",
    " #### Example:\n",
    "\n",
    " #### Calling `divide(5, 2, False)` returns `2.5`.  \n",
    " #### Calling `divide(5, 2, True)` returns `2`, since 5 divided by 2 is 2.5, but it gets rounded down afterwards.ards.5...."
   ]
  },
  {
   "cell_type": "code",
   "execution_count": 9,
   "id": "f81f59aa-3bb7-42d4-86a5-09068b509ace",
   "metadata": {},
   "outputs": [
    {
     "data": {
      "text/plain": [
       "2.5"
      ]
     },
     "execution_count": 9,
     "metadata": {},
     "output_type": "execute_result"
    }
   ],
   "source": [
    "Output:2\n",
    "2.5"
   ]
  },
  {
   "cell_type": "code",
   "execution_count": 10,
   "id": "2e465eff-a4ca-494d-afd5-583dc3679a84",
   "metadata": {},
   "outputs": [
    {
     "name": "stdout",
     "output_type": "stream",
     "text": [
      "2\n",
      "2.5\n"
     ]
    }
   ],
   "source": [
    "def divide(a, b, floorDivision): \n",
    "   \n",
    "   if floorDivision == True:\n",
    "      return (a // b)\n",
    "    \n",
    "   else:\n",
    "      return(a / b)\n",
    "    \n",
    "print(divide(5,2,True))\n",
    "print(divide(5,2,False))"
   ]
  },
  {
   "cell_type": "code",
   "execution_count": null,
   "id": "67fab4dc-de87-456e-9271-c834062a668d",
   "metadata": {},
   "outputs": [],
   "source": []
  }
 ],
 "metadata": {
  "kernelspec": {
   "display_name": "Python 3 (ipykernel)",
   "language": "python",
   "name": "python3"
  },
  "language_info": {
   "codemirror_mode": {
    "name": "ipython",
    "version": 3
   },
   "file_extension": ".py",
   "mimetype": "text/x-python",
   "name": "python",
   "nbconvert_exporter": "python",
   "pygments_lexer": "ipython3",
   "version": "3.11.7"
  }
 },
 "nbformat": 4,
 "nbformat_minor": 5
}
