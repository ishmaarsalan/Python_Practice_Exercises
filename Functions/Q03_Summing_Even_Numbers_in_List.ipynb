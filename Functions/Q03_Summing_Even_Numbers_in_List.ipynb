{
 "cells": [
  {
   "cell_type": "markdown",
   "id": "eeed0984-7577-4a0b-8c0c-22106afe3823",
   "metadata": {},
   "source": [
    " ## 01. Summing Even Numbers in a List"
   ]
  },
  {
   "cell_type": "markdown",
   "id": "c2c337b5-2e62-4c06-b758-34f2f4462967",
   "metadata": {},
   "source": [
    " #### The function sumUpEvenNumbers takes one input numbersList.\r\n",
    "Sum up all the numbers in this list that are even and return the result.\r\n",
    "\r\n",
    "Example:\r\n",
    "Calling sumUpEvenNumbers([1, 2, 3, 4]) returns 6, since 2 + 4 = 6 and these are the only even numbers in that list.ards.5...."
   ]
  },
  {
   "cell_type": "code",
   "execution_count": 12,
   "id": "f81f59aa-3bb7-42d4-86a5-09068b509ace",
   "metadata": {},
   "outputs": [],
   "source": [
    "Output:154"
   ]
  },
  {
   "cell_type": "code",
   "execution_count": 13,
   "id": "2e465eff-a4ca-494d-afd5-583dc3679a84",
   "metadata": {},
   "outputs": [
    {
     "name": "stdout",
     "output_type": "stream",
     "text": [
      "sum of even number is :6\n"
     ]
    }
   ],
   "source": [
    "def sumUpEvenNumbers(numbersList): \n",
    "\n",
    "    sum_total = 0\n",
    "    for current_number in numbersList:\n",
    "\n",
    "        even_number_found = isEven(current_number)\n",
    "        if even_number_found:\n",
    "           sum_total = current_number + sum_total\n",
    "       \n",
    "\n",
    "    return sum_total\n",
    "    \n",
    "def isEven(x):\n",
    "    if x % 2 == 0:\n",
    "        return True\n",
    "    else:\n",
    "        return False\n",
    "\n",
    "       \n",
    "sum_of_numbers_result = sumUpEvenNumbers([1, 2, 3, 4])\n",
    "print(\"sum of even number is :\" + str(sum_of_numbers_result))\n"
   ]
  }
 ],
 "metadata": {
  "kernelspec": {
   "display_name": "Python 3 (ipykernel)",
   "language": "python",
   "name": "python3"
  },
  "language_info": {
   "codemirror_mode": {
    "name": "ipython",
    "version": 3
   },
   "file_extension": ".py",
   "mimetype": "text/x-python",
   "name": "python",
   "nbconvert_exporter": "python",
   "pygments_lexer": "ipython3",
   "version": "3.11.7"
  }
 },
 "nbformat": 4,
 "nbformat_minor": 5
}
