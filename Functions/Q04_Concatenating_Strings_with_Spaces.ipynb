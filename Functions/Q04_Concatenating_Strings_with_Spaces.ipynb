{
 "cells": [
  {
   "cell_type": "markdown",
   "id": "eeed0984-7577-4a0b-8c0c-22106afe3823",
   "metadata": {},
   "source": [
    " ## 04. Concatenating Strings with Spaces Using the concatStrings Function"
   ]
  },
  {
   "cell_type": "markdown",
   "id": "c933e5f4-bd0d-4a39-8595-7c9db940cabb",
   "metadata": {},
   "source": [
    "#### Porblem: The function concatStrings takes one input stringList.\n",
    "All the entries in there are concatenated together into one giant string, however, a space (\" \") is inserted between all of the\n",
    "\n",
    " #### Example:m\n",
    "#### Calling concatString ([\"a\", \"b\", \"c\"]) returns 'a b c'"
   ]
  },
  {
   "cell_type": "code",
   "execution_count": 16,
   "id": "f81f59aa-3bb7-42d4-86a5-09068b509ace",
   "metadata": {},
   "outputs": [],
   "source": [
    "Output:a b c"
   ]
  },
  {
   "cell_type": "code",
   "execution_count": 18,
   "id": "2e465eff-a4ca-494d-afd5-583dc3679a84",
   "metadata": {},
   "outputs": [
    {
     "name": "stdout",
     "output_type": "stream",
     "text": [
      "a b c\n",
      "Hello\n"
     ]
    }
   ],
   "source": [
    "def concatStrings(stringList):  \n",
    "    combinedString = \"\"\n",
    "    for current_value in stringList:\n",
    "        #combinedString = combinedString + current_value + \" \"\n",
    "        combinedString += current_value + \" \"\n",
    "    #end of loop\n",
    "    \n",
    "    return combinedString.strip()\n",
    "#end of function\n",
    "\n",
    "concatenated_strings= concatStrings([\"a\", \"b\", \"c\"])\n",
    "print(concatenated_strings)\n",
    "concatenated_strings = concatStrings([\"Hello\"]) \n",
    "print(concatenated_strings)\n"
   ]
  },
  {
   "cell_type": "code",
   "execution_count": null,
   "id": "bde00b9b-d916-4105-9c6c-f62b8663beee",
   "metadata": {},
   "outputs": [],
   "source": []
  }
 ],
 "metadata": {
  "kernelspec": {
   "display_name": "Python 3 (ipykernel)",
   "language": "python",
   "name": "python3"
  },
  "language_info": {
   "codemirror_mode": {
    "name": "ipython",
    "version": 3
   },
   "file_extension": ".py",
   "mimetype": "text/x-python",
   "name": "python",
   "nbconvert_exporter": "python",
   "pygments_lexer": "ipython3",
   "version": "3.11.7"
  }
 },
 "nbformat": 4,
 "nbformat_minor": 5
}
