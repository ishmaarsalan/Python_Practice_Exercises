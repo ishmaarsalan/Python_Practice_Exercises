{
 "cells": [
  {
   "cell_type": "markdown",
   "id": "eeed0984-7577-4a0b-8c0c-22106afe3823",
   "metadata": {},
   "source": [
    " ## 05. Generating a Number List with Exclusions Using createListWithNumbers Function"
   ]
  },
  {
   "cell_type": "markdown",
   "id": "fca6c051-2b6a-458b-a061-7c6b0b33d637",
   "metadata": {},
   "source": [
    "#### Porblem: The function `createListWithNumbers` takes three inputs `lowestNumber`, `highestNumber` and `excludeMultiple`.  \n",
    " #### Create a list with all the numbers between `lowestNumber` and `highestNumber` (both included). However, don't include numbers that are a multiple of `excludeMultiple`.\n",
    "\n",
    "#### Example:\n",
    "Calling `createListWithNumbers(3, 15, 4)` returns `[3, 5, 6, 7, 9, 10, 11, 13, 14, 15]`. These are all the numbers between 3 and 15 minus the ones that are a multiple of 4 (4, 8 and 12)."
   ]
  },
  {
   "cell_type": "code",
   "execution_count": 23,
   "id": "2e465eff-a4ca-494d-afd5-583dc3679a84",
   "metadata": {},
   "outputs": [
    {
     "name": "stdout",
     "output_type": "stream",
     "text": [
      "[3, 5, 6, 7, 9, 10, 11, 13, 14, 15]\n"
     ]
    }
   ],
   "source": [
    "def createListWithNumbers(lowestNumber, highestNumber, excludeMultiple):    \n",
    "   \n",
    "    all_list = []\n",
    "    for current_num in range(lowestNumber, highestNumber+1):\n",
    "        if current_num % excludeMultiple != 0: \n",
    "            all_list.append(current_num)\n",
    "            #print(current_num)\n",
    "        else:  \n",
    "            continue # this word continue actually escpe the multiple of (4)the number\n",
    "    return all_list\n",
    "       \n",
    "final_numbers = createListWithNumbers(3,15,4)\n",
    "print(final_numbers)\n"
   ]
  },
  {
   "cell_type": "code",
   "execution_count": null,
   "id": "bde00b9b-d916-4105-9c6c-f62b8663beee",
   "metadata": {},
   "outputs": [],
   "source": []
  }
 ],
 "metadata": {
  "kernelspec": {
   "display_name": "Python 3 (ipykernel)",
   "language": "python",
   "name": "python3"
  },
  "language_info": {
   "codemirror_mode": {
    "name": "ipython",
    "version": 3
   },
   "file_extension": ".py",
   "mimetype": "text/x-python",
   "name": "python",
   "nbconvert_exporter": "python",
   "pygments_lexer": "ipython3",
   "version": "3.11.7"
  }
 },
 "nbformat": 4,
 "nbformat_minor": 5
}
