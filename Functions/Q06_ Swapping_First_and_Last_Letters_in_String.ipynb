{
 "cells": [
  {
   "cell_type": "markdown",
   "id": "eeed0984-7577-4a0b-8c0c-22106afe3823",
   "metadata": {},
   "source": [
    " ## 05. Generating a Number List with Exclusions Using createListWithNumbers Function"
   ]
  },
  {
   "cell_type": "markdown",
   "id": "fca6c051-2b6a-458b-a061-7c6b0b33d637",
   "metadata": {},
   "source": [
    "#### Porblem: The function `swapLetters` takes one string parameter `word`.  \n",
    " #### Swap the first and last letter of it and return this newly created string.\n",
    "\n",
    "#### Example:\n",
    "Calling `swapLetters(\"Hello\")` returns `'oellH'`.\n",
    "\n",
    "#### Note:\n",
    "You might want to try doing something like `word[0] = lastLetter`; however, the `String[index]` notation is not allowed on the left side of an equal sign in Python."
   ]
  },
  {
   "cell_type": "code",
   "execution_count": 24,
   "id": "2e465eff-a4ca-494d-afd5-583dc3679a84",
   "metadata": {},
   "outputs": [
    {
     "name": "stdout",
     "output_type": "stream",
     "text": [
      "oellH\n"
     ]
    }
   ],
   "source": [
    "def swapLetters(word):  \n",
    "    \n",
    "    new_list = list(word)\n",
    "    if len(new_list) == 0:\n",
    "        return \"\"\n",
    "    #find out last letter index of the list by using \"len\"\n",
    "    last_letter = len(new_list) - 1\n",
    "    first_letter = 0\n",
    "\n",
    "    new_list[first_letter], new_list[last_letter] = new_list[last_letter], new_list[first_letter]  \n",
    "    new_string = \"\".join(new_list)  \n",
    "    return new_string\n",
    "\n",
    "finalSwapLetter = swapLetters(\"Hello\")\n",
    "print(finalSwapLetter)\n"
   ]
  },
  {
   "cell_type": "code",
   "execution_count": null,
   "id": "bde00b9b-d916-4105-9c6c-f62b8663beee",
   "metadata": {},
   "outputs": [],
   "source": []
  }
 ],
 "metadata": {
  "kernelspec": {
   "display_name": "Python 3 (ipykernel)",
   "language": "python",
   "name": "python3"
  },
  "language_info": {
   "codemirror_mode": {
    "name": "ipython",
    "version": 3
   },
   "file_extension": ".py",
   "mimetype": "text/x-python",
   "name": "python",
   "nbconvert_exporter": "python",
   "pygments_lexer": "ipython3",
   "version": "3.11.7"
  }
 },
 "nbformat": 4,
 "nbformat_minor": 5
}
