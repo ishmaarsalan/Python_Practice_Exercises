{
 "cells": [
  {
   "cell_type": "markdown",
   "id": "eeed0984-7577-4a0b-8c0c-22106afe3823",
   "metadata": {},
   "source": [
    " ## 01. Find Square"
   ]
  },
  {
   "cell_type": "markdown",
   "id": "c2c337b5-2e62-4c06-b758-34f2f4462967",
   "metadata": {},
   "source": [
    " #### Problem: Calculate the square of 37"
   ]
  },
  {
   "cell_type": "code",
   "execution_count": null,
   "id": "f81f59aa-3bb7-42d4-86a5-09068b509ace",
   "metadata": {},
   "outputs": [],
   "source": [
    "Output:1369"
   ]
  },
  {
   "cell_type": "code",
   "execution_count": 1,
   "id": "2e465eff-a4ca-494d-afd5-583dc3679a84",
   "metadata": {},
   "outputs": [
    {
     "name": "stdout",
     "output_type": "stream",
     "text": [
      "1369\n"
     ]
    }
   ],
   "source": [
    "result = 0\n",
    "value = 37\n",
    "result = value ** 2\n",
    "\n",
    "print(result)"
   ]
  },
  {
   "cell_type": "code",
   "execution_count": null,
   "id": "67fab4dc-de87-456e-9271-c834062a668d",
   "metadata": {},
   "outputs": [],
   "source": []
  }
 ],
 "metadata": {
  "kernelspec": {
   "display_name": "Python 3 (ipykernel)",
   "language": "python",
   "name": "python3"
  },
  "language_info": {
   "codemirror_mode": {
    "name": "ipython",
    "version": 3
   },
   "file_extension": ".py",
   "mimetype": "text/x-python",
   "name": "python",
   "nbconvert_exporter": "python",
   "pygments_lexer": "ipython3",
   "version": "3.11.7"
  }
 },
 "nbformat": 4,
 "nbformat_minor": 5
}
