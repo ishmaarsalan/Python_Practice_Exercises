{
 "cells": [
  {
   "cell_type": "markdown",
   "id": "fd8cc0c6-e4c1-4d53-8a18-fe2a6afb21c8",
   "metadata": {},
   "source": [
    " ## 8. Calculate the Factorial"
   ]
  },
  {
   "cell_type": "markdown",
   "id": "a5a47677-78f3-45ec-8622-6eca5dab6d5b",
   "metadata": {},
   "source": [
    " #### Problem: Write a function factorial(n) that returns the factorial of a given number n.\n",
    "\n",
    "Input: 5"
   ]
  },
  {
   "cell_type": "code",
   "execution_count": null,
   "id": "8f8282a5-825a-453f-8b24-5ccd6e684b81",
   "metadata": {},
   "outputs": [],
   "source": [
    "Output: 120"
   ]
  },
  {
   "cell_type": "code",
   "execution_count": 4,
   "id": "88e1eba2-8df5-4140-9b5b-b4f7e26d6a7e",
   "metadata": {},
   "outputs": [
    {
     "name": "stdin",
     "output_type": "stream",
     "text": [
      "Give me your number:  5\n"
     ]
    },
    {
     "name": "stdout",
     "output_type": "stream",
     "text": [
      "The factorial is = 120\n"
     ]
    }
   ],
   "source": [
    "n = int(input(\"Give me your number: \"))\n",
    "\n",
    "def factorial(n):\n",
    "    if n < 0:\n",
    "        return \"Wrong input\"\n",
    "    elif n == 0 or n == 1:\n",
    "        return 1\n",
    "    else:\n",
    "        value = 1\n",
    "        for i in range(1, n + 1):\n",
    "             value = value * i\n",
    "        return value\n",
    "\n",
    "final_result = factorial(n)\n",
    "print(\"The factorial is =\" , final_result)\n"
   ]
  }
 ],
 "metadata": {
  "kernelspec": {
   "display_name": "Python 3 (ipykernel)",
   "language": "python",
   "name": "python3"
  },
  "language_info": {
   "codemirror_mode": {
    "name": "ipython",
    "version": 3
   },
   "file_extension": ".py",
   "mimetype": "text/x-python",
   "name": "python",
   "nbconvert_exporter": "python",
   "pygments_lexer": "ipython3",
   "version": "3.11.7"
  }
 },
 "nbformat": 4,
 "nbformat_minor": 5
}
