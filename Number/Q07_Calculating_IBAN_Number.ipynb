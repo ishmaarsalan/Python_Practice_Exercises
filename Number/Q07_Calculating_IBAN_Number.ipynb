{
 "cells": [
  {
   "cell_type": "markdown",
   "id": "37dc5d04-d7d1-4e14-b6c4-f537966937da",
   "metadata": {
    "deletable": false,
    "editable": false,
    "nbgrader": {
     "cell_type": "markdown",
     "checksum": "e07ff72d5335aef35b034cc63630e6b6",
     "grade": false,
     "grade_id": "cell-140c81f39be6f2a9",
     "locked": true,
     "schema_version": 3,
     "solution": false,
     "task": false
    }
   },
   "source": [
    "# Programming Assignment 1 - IBAN\n",
    "\n",
    "The assignments are released on Mondays. You have **5 days** to solve and upload them (=> **upload by Friday** at the latest).\n",
    "**At least 80%** of all the reachable assignment points have to be achieved by the end of the semester.\n",
    "\n",
    "Please use the variable names as given below.\n",
    "\n",
    "### Topic\n",
    "The International Bank Account Number (IBAN) is an internationally agreed system of identifying bank accounts. An IBAN number starts with a <font color=\"blue\">country code</font> of two letters for the country, followed by two <font color=\"magenta\">check digits</font>, the <font color=\"green\">bank code</font> and finally the <font color=\"red\">account number</font>.<br><br>\n",
    "<font color=\"blue\">DE</font><font color=\"magenta\">29</font><font color=\"green\">10010010</font><font color=\"red\">0987654321</font><br>\n",
    "<font color=\"blue\">country code </font>|<font color=\"magenta\"> check digits </font>|<font color=\"green\"> bank code </font>|<font color=\"red\"> account number</font><br><br>\n",
    "To calculate the check digits (<font color=\"magenta\">??</font>) of <font color=\"blue\">DE</font><font color=\"magenta\">??</font><font color=\"green\">10010010</font><font color=\"red\">0987654321</font> proceed as follows (see also https://www.ibantest.com/en/how-is-the-iban-check-digit-calculated)."
   ]
  },
  {
   "cell_type": "markdown",
   "id": "ad20ca17-5bb7-4603-9c99-d0a4377276e0",
   "metadata": {
    "deletable": false,
    "editable": false,
    "nbgrader": {
     "cell_type": "markdown",
     "checksum": "2736eb38883e0b6a33f774823df90499",
     "grade": false,
     "grade_id": "cell-2f350a9edbdb1011",
     "locked": true,
     "schema_version": 3,
     "solution": false,
     "task": false
    },
    "tags": []
   },
   "source": [
    "### Exercise 1 (2 Points)\n",
    "\n",
    "#### Task:\n",
    "The country code has to be converted into numbers.  \n",
    "For A = 10, B = 11 etc. up to Z = 35. For example \"<font color=\"blue\">DE</font>\" becomes the number \"<font color=\"blue\">13</font>\" and \"<font color=\"blue\">14</font>\". Find the values of the first and second letter.  \n",
    "Cou can use the function `ord()`. For example, `ord(“A”)` returns 65, `ord(\"B\")` returns 66, etc.  \n",
    "The value of the variable `first_letter` should have value \"13\" <b>(as a string!)</b>. Also set the variable `second_letter` accordingly."
   ]
  },
  {
   "cell_type": "code",
   "execution_count": 271,
   "id": "8a904785-a8bb-4e96-892a-0ef258118794",
   "metadata": {
    "deletable": false,
    "nbgrader": {
     "cell_type": "code",
     "checksum": "3e6e0f435e3f9c6b795132b5871b1148",
     "grade": false,
     "grade_id": "cell-265de131ca34cd06",
     "locked": false,
     "schema_version": 3,
     "solution": true,
     "task": false
    },
    "revert": "iban = \"DE29100100100987654321\"\n\nfirst_letter = \"\"\nsecond_letter = \"\"\n\n# YOUR CODE HERE\nraise NotImplementedError()",
    "tags": []
   },
   "outputs": [
    {
     "name": "stdout",
     "output_type": "stream",
     "text": [
      "13\n",
      "14\n"
     ]
    }
   ],
   "source": [
    "iban = \"DE29100100100987654321\"\n",
    "\n",
    "first_letter = iban[0]\n",
    "second_letter = iban[1]\n",
    "first_letter = ord(first_letter)\n",
    "second_letter = ord(second_letter)\n",
    "\n",
    "first_letter = str(first_letter - 55)\n",
    "second_letter = str(second_letter - 55)\n",
    "print(first_letter)\n",
    "print(second_letter)\n",
    "\n",
    "\n"
   ]
  },
  {
   "cell_type": "code",
   "execution_count": 272,
   "id": "d3afe210-9ac4-4a0c-a102-5317888fbd95",
   "metadata": {
    "deletable": false,
    "editable": false,
    "nbgrader": {
     "cell_type": "code",
     "checksum": "1bfea66bf4139df0d1761c73559f85f6",
     "grade": true,
     "grade_id": "cell-54261f08e1c526f0",
     "locked": true,
     "points": 2,
     "schema_version": 3,
     "solution": false,
     "task": false
    },
    "tags": []
   },
   "outputs": [],
   "source": [
    "# Test section\n",
    "\n",
    "assert str(type(first_letter)) == \"<class 'str'>\"\n",
    "assert first_letter == \"13\"\n",
    "\n",
    "assert str(type(second_letter)) == \"<class 'str'>\"\n",
    "assert second_letter == \"14\""
   ]
  },
  {
   "cell_type": "markdown",
   "id": "21c8d45c-0552-47c7-a426-9417d0f4c692",
   "metadata": {
    "deletable": false,
    "editable": false,
    "nbgrader": {
     "cell_type": "markdown",
     "checksum": "88f76cc333931dffc7d304f33e89e43f",
     "grade": false,
     "grade_id": "cell-115eb6aad704d8d1",
     "locked": true,
     "schema_version": 3,
     "solution": false,
     "task": false
    }
   },
   "source": [
    "### Exercise 2 (1 Point)\n",
    "\n",
    "#### Task:\n",
    "Use <font color=\"green\">bank code</font> and <font color=\"red\">account number</font> and append the converted <font color=\"blue\">country code</font> along with two zeros (00).  \n",
    "iban_part = <font color=\"green\">10010010</font><font color=\"red\">0987654321</font><font color=\"blue\">1314</font>00  \n",
    "<b>Don't just copy paste the number</b>, rather use `first_letter` and `second_letter` you've defined in <b>Exercise 1</b>"
   ]
  },
  {
   "cell_type": "code",
   "execution_count": 273,
   "id": "58eefa68-ee4e-4a43-8dfb-2bc844c2f1e7",
   "metadata": {
    "deletable": false,
    "nbgrader": {
     "cell_type": "code",
     "checksum": "e1be94a0a5e6cef2351ee7352b37e8b0",
     "grade": false,
     "grade_id": "cell-5da2a3886685db6a",
     "locked": false,
     "schema_version": 3,
     "solution": true,
     "task": false
    },
    "revert": "iban_part = \"\"\n\n# YOUR CODE HERE\nraise NotImplementedError()",
    "tags": []
   },
   "outputs": [
    {
     "name": "stdout",
     "output_type": "stream",
     "text": [
      "100100100987654321131400\n"
     ]
    }
   ],
   "source": [
    "iban_part = iban[4:]\n",
    "country_code = first_letter + second_letter\n",
    "iban_part = iban_part + first_letter + second_letter + \"00\"\n",
    "print(iban_part)\n",
    "\n"
   ]
  },
  {
   "cell_type": "code",
   "execution_count": 274,
   "id": "cd6d59d2-2a5e-4bef-abc7-161d481b5eee",
   "metadata": {
    "deletable": false,
    "editable": false,
    "nbgrader": {
     "cell_type": "code",
     "checksum": "9ffda9cd954ec07159891c1466bffcb1",
     "grade": true,
     "grade_id": "cell-26805dec7bf70d1d",
     "locked": true,
     "points": 1,
     "schema_version": 3,
     "solution": false,
     "task": false
    },
    "tags": []
   },
   "outputs": [],
   "source": [
    "# Test section\n",
    "\n",
    "assert str(type(iban_part)) == \"<class 'str'>\"\n",
    "assert iban_part == \"100100100987654321131400\""
   ]
  },
  {
   "cell_type": "markdown",
   "id": "437d5a82-4906-41df-babf-34bbd9087db1",
   "metadata": {
    "deletable": false,
    "editable": false,
    "nbgrader": {
     "cell_type": "markdown",
     "checksum": "87bb5317083597dd326d065e0de0449a",
     "grade": false,
     "grade_id": "cell-e30edb3cc5001f2d",
     "locked": true,
     "schema_version": 3,
     "solution": false,
     "task": false
    }
   },
   "source": [
    "### Exercise 3 (1 Point)\n",
    "\n",
    "#### Task:\n",
    "Calculate the resulting number modulo 97, i.e. <font color=\"green\">10010010</font><font color=\"red\">0987654321</font><font color=\"blue\">1314</font>00 mod 97 = 69  \n",
    "The check digit is '98 minus this result', i.e.  \n",
    "98 - 69 = <font color=\"magenta\">29</font>  \n",
    "Please write the result into the variable `iban_mod`."
   ]
  },
  {
   "cell_type": "code",
   "execution_count": 275,
   "id": "34acc2f5-176e-462b-b0f4-a5afa55274cc",
   "metadata": {
    "deletable": false,
    "nbgrader": {
     "cell_type": "code",
     "checksum": "da01cd5369b021685801bba60788ad20",
     "grade": false,
     "grade_id": "cell-1610cffaebb8dcf2",
     "locked": false,
     "schema_version": 3,
     "solution": true,
     "task": false
    },
    "revert": "iban_mod = \"\"\n\n# YOUR CODE HERE\nraise NotImplementedError()",
    "tags": []
   },
   "outputs": [],
   "source": [
    "iban_mod = 98 - (int(iban_part)%97) "
   ]
  },
  {
   "cell_type": "code",
   "execution_count": 276,
   "id": "d625c91f-08c4-4672-94d6-2d031a1a1287",
   "metadata": {
    "deletable": false,
    "editable": false,
    "nbgrader": {
     "cell_type": "code",
     "checksum": "9fb7380fc40930e9552e3d71c72fea16",
     "grade": true,
     "grade_id": "cell-4058a6fc3b2d8f77",
     "locked": true,
     "points": 1,
     "schema_version": 3,
     "solution": false,
     "task": false
    },
    "tags": []
   },
   "outputs": [],
   "source": [
    "# Test section\n",
    "\n",
    "assert str(type(iban_mod)) == \"<class 'int'>\"\n",
    "assert iban_mod == 29"
   ]
  },
  {
   "cell_type": "markdown",
   "id": "8e81a021-4993-4980-8d8a-6f990cc18fb4",
   "metadata": {
    "deletable": false,
    "editable": false,
    "nbgrader": {
     "cell_type": "markdown",
     "checksum": "2c8831ac3b5381b85bd86c4b137d9983",
     "grade": false,
     "grade_id": "cell-a3d2ad66f60f4251",
     "locked": true,
     "schema_version": 3,
     "solution": false,
     "task": false
    }
   },
   "source": [
    "### Exercise 4 (1 Point)\n",
    "\n",
    "#### Task:\n",
    "Write a comparison with an if-statement with the comparison operator <i>==</i> if the <font color=\"magenta\">check digits</font> are correct (i.e. if they are the same as the iban_mod).  \n",
    "`is_check_true` shall be `True` if they are the same or `False` in case they are not."
   ]
  },
  {
   "cell_type": "code",
   "execution_count": 277,
   "id": "6990eca5-09b0-48f9-b08f-10290399829b",
   "metadata": {
    "deletable": false,
    "nbgrader": {
     "cell_type": "code",
     "checksum": "424717470cd5bf9f95ab524546de91a2",
     "grade": false,
     "grade_id": "cell-2916ec167f407b6a",
     "locked": false,
     "schema_version": 3,
     "solution": true,
     "task": false
    },
    "revert": "is_check_true = True\n\n# YOUR CODE HERE\nraise NotImplementedError()",
    "tags": []
   },
   "outputs": [],
   "source": [
    "is_check_true = True \n",
    "check_digit = int(iban[2:4])\n",
    "if check_digit == iban_mod:\n",
    " is_check_true = True\n",
    "else:\n",
    " is_check_digit = False\n"
   ]
  },
  {
   "cell_type": "code",
   "execution_count": 278,
   "id": "5642c2db-3636-4dbf-b44b-ff3588af4fb8",
   "metadata": {
    "deletable": false,
    "editable": false,
    "nbgrader": {
     "cell_type": "code",
     "checksum": "22453ce1489233f99f5bba0f489d5825",
     "grade": true,
     "grade_id": "cell-be109e654dbbf0fd",
     "locked": true,
     "points": 1,
     "schema_version": 3,
     "solution": false,
     "task": false
    },
    "tags": []
   },
   "outputs": [],
   "source": [
    "# Test section\n",
    "\n",
    "assert str(type(is_check_true)) == \"<class 'bool'>\"\n",
    "assert is_check_true == True"
   ]
  },
  {
   "cell_type": "markdown",
   "id": "d88c6b9f-1942-42e6-968b-a0d21cdfa303",
   "metadata": {
    "deletable": false,
    "editable": false,
    "nbgrader": {
     "cell_type": "markdown",
     "checksum": "cb5f95799e83a2bcb2a7b55a1c3ae66d",
     "grade": false,
     "grade_id": "cell-720ff17bacbd463b",
     "locked": true,
     "schema_version": 3,
     "solution": false,
     "task": false
    }
   },
   "source": [
    "### Exercise 5 (5 Points)\n",
    "\n",
    "#### Task:\n",
    "Put everything together in a function named `iban_verification`.  \n",
    "If the IBAN is correct it should return `True`; if the IBAN is incorrect it should return `False`.  \n",
    "\n",
    "#### Example:\n",
    "Here, we check the validity of the IBAN from \"Welthungerhilfe\":\n",
    "Calling `iban_verification(\"DE15370501980000001115\")` returns `True`, because `\"DE15370501980000001115\"` is a valid IBAN."
   ]
  },
  {
   "cell_type": "code",
   "execution_count": 279,
   "id": "4f1d4494-5cde-4aca-9c30-5902e5983f93",
   "metadata": {
    "deletable": false,
    "nbgrader": {
     "cell_type": "code",
     "checksum": "d5cc6c0f5b25dcf189f0b7df48f5aee0",
     "grade": false,
     "grade_id": "cell-94969a54c4cc2d9e",
     "locked": false,
     "schema_version": 3,
     "solution": true,
     "task": false
    },
    "revert": "# defines a function named iban_verification\n# It is given an iban to work with; you can just work with it like with any other variable\ndef iban_verification(iban):\n    # TODO: basically insert all steps above here\n    # Remember: Things in a function are inlined by one tab\n    #\n    # do things ....\n    # \n    # is_check_true = ...\n    # return is_check_true     # here you return the result of your calcualtions; this should be True or False depending on the input\n\n# YOUR CODE HERE\nraise NotImplementedError()",
    "tags": []
   },
   "outputs": [],
   "source": [
    "\n",
    "def iban_verification(iban):\n",
    " first_letter = iban[0]\n",
    " second_letter = iban[1]\n",
    " first_letter = ord(first_letter)\n",
    " second_letter = ord(second_letter)\n",
    "\n",
    " first_letter = str(first_letter - 55)\n",
    " second_letter = str(second_letter - 55)\n",
    " iban_part = iban[4:]\n",
    " iban_part = iban_part + first_letter + second_letter + \"00\"\n",
    "\n",
    "\n",
    " iban_mod = 98 - (int(iban_part)%97) \n",
    " is_check_true = False \n",
    " check_digit = int(iban[2:4])\n",
    " if check_digit == iban_mod:\n",
    "  is_check_true = True\n",
    " else:\n",
    "  is_check_digit = False\n",
    " return is_check_true"
   ]
  },
  {
   "cell_type": "code",
   "execution_count": 280,
   "id": "df94b3a6-68d2-4782-bc6e-4b352c1a5f72",
   "metadata": {
    "deletable": false,
    "editable": false,
    "nbgrader": {
     "cell_type": "code",
     "checksum": "fcf2d27fcbd6c990d00ec27aa15fbf7f",
     "grade": false,
     "grade_id": "cell-86fb5df21715011b",
     "locked": true,
     "schema_version": 3,
     "solution": false,
     "task": false
    }
   },
   "outputs": [
    {
     "data": {
      "text/plain": [
       "True"
      ]
     },
     "execution_count": 280,
     "metadata": {},
     "output_type": "execute_result"
    }
   ],
   "source": [
    "# For testing purposes\n",
    "\n",
    "iban_verification(\"DE15370501980000001115\")\n",
    "# Shall return\n",
    "# True"
   ]
  },
  {
   "cell_type": "code",
   "execution_count": 281,
   "id": "5cbc7688-4ee0-4b8e-b26c-a30a8c92cadb",
   "metadata": {
    "deletable": false,
    "editable": false,
    "nbgrader": {
     "cell_type": "code",
     "checksum": "cbd6fc09c0e1772b76f908052f4fa9c6",
     "grade": true,
     "grade_id": "cell-53e4c4d28542a4f5",
     "locked": true,
     "points": 5,
     "schema_version": 3,
     "solution": false,
     "task": false
    },
    "tags": []
   },
   "outputs": [],
   "source": [
    "# Test section\n",
    "\n",
    "# Testing for True\n",
    "assert iban_verification(\"DE15370501980000001115\") == True\n",
    "assert iban_verification(\"DE31370501980000033225\") == True\n",
    "assert iban_verification(\"ES9121000418450200051332\") == True\n",
    "assert iban_verification(\"FI2112345600000785\") == True\n",
    "assert iban_verification(\"AT611904300234573201\") == True\n",
    "# Testing for False\n",
    "assert iban_verification(\"AT15370501980000001115\") == False\n",
    "assert iban_verification(\"DE37370501980000033225\") == False\n",
    "assert iban_verification(\"ES9121000418450200051662\") == False\n",
    "assert iban_verification(\"FI2189347600000785\") == False\n",
    "assert iban_verification(\"DE611904300234573201\") == False\n"
   ]
  },
  {
   "cell_type": "code",
   "execution_count": null,
   "id": "3fcc92b3-adb3-4241-ba28-791530eb5c3f",
   "metadata": {},
   "outputs": [],
   "source": []
  }
 ],
 "metadata": {
  "kernelspec": {
   "display_name": "Python 3 (ipykernel)",
   "language": "python",
   "name": "python3"
  },
  "language_info": {
   "codemirror_mode": {
    "name": "ipython",
    "version": 3
   },
   "file_extension": ".py",
   "mimetype": "text/x-python",
   "name": "python",
   "nbconvert_exporter": "python",
   "pygments_lexer": "ipython3",
   "version": "3.11.7"
  }
 },
 "nbformat": 4,
 "nbformat_minor": 5
}
